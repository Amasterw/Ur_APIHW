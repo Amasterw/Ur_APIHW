{
 "cells": [
  {
   "cell_type": "code",
   "execution_count": 3,
   "metadata": {},
   "outputs": [],
   "source": [
    "import pandas as pd\n",
    "import numpy as np\n",
    "import matplotlib as plt\n",
    "import json\n",
    "import requests\n",
    "from citipy import citipy\n",
    "api_key = \"2d7bc754b1f208baf1d97b9f731cceb6\""
   ]
  },
  {
   "cell_type": "code",
   "execution_count": 7,
   "metadata": {},
   "outputs": [],
   "source": [
    "#ranges\n",
    "larange = (-75, 75)\n",
    "lonrange = (-125, 125)\n",
    "\n",
    "units = \"imperial\"\n",
    "\n",
    "url = f\"http://api.openweathermap.org/data/2.5/weather?appid={api_key}&units={units}\""
   ]
  },
  {
   "cell_type": "code",
   "execution_count": 11,
   "metadata": {},
   "outputs": [],
   "source": [
    "latlon = []\n",
    "cities = []\n",
    "\n",
    "lat = np.random.uniform(low =- 75.00, high = 75.00, size= 1200)\n",
    "lon = np.random.uniform(low =- 125.00, high = 125.00, size= 1200)\n",
    "latlon = zip(lat,lon)\n",
    "\n",
    "for latlon in latlon:\n",
    "    city = citipy.nearest_city(latlon[0], latlon[1]).city_name\n",
    "    "
   ]
  },
  {
   "cell_type": "code",
   "execution_count": null,
   "metadata": {},
   "outputs": [],
   "source": []
  }
 ],
 "metadata": {
  "kernelspec": {
   "display_name": "Python 3",
   "language": "python",
   "name": "python3"
  },
  "language_info": {
   "codemirror_mode": {
    "name": "ipython",
    "version": 3
   },
   "file_extension": ".py",
   "mimetype": "text/x-python",
   "name": "python",
   "nbconvert_exporter": "python",
   "pygments_lexer": "ipython3",
   "version": "3.7.6"
  }
 },
 "nbformat": 4,
 "nbformat_minor": 4
}
