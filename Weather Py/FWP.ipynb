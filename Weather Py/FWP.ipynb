{
 "cells": [
  {
   "cell_type": "code",
   "execution_count": 5,
   "metadata": {},
   "outputs": [],
   "source": [
    "import pandas as pd\n",
    "import numpy as np\n",
    "import matplotlib as plt\n",
    "import json\n",
    "from ratelimit import limits\n",
    "import requests\n",
    "api_key = \"2d7bc754b1f208baf1d97b9f731cceb6\""
   ]
  },
  {
   "cell_type": "code",
   "execution_count": 6,
   "metadata": {},
   "outputs": [
    {
     "data": {
      "text/html": [
       "<div>\n",
       "<style scoped>\n",
       "    .dataframe tbody tr th:only-of-type {\n",
       "        vertical-align: middle;\n",
       "    }\n",
       "\n",
       "    .dataframe tbody tr th {\n",
       "        vertical-align: top;\n",
       "    }\n",
       "\n",
       "    .dataframe thead th {\n",
       "        text-align: right;\n",
       "    }\n",
       "</style>\n",
       "<table border=\"1\" class=\"dataframe\">\n",
       "  <thead>\n",
       "    <tr style=\"text-align: right;\">\n",
       "      <th></th>\n",
       "      <th>ID</th>\n",
       "      <th>City Name</th>\n",
       "      <th>Latitude</th>\n",
       "      <th>Longitude</th>\n",
       "      <th>Country</th>\n",
       "    </tr>\n",
       "  </thead>\n",
       "  <tbody>\n",
       "    <tr>\n",
       "      <th>0</th>\n",
       "      <td>4724892</td>\n",
       "      <td>Saint Hedwig</td>\n",
       "      <td>29.41440</td>\n",
       "      <td>-98.20001</td>\n",
       "      <td>United States</td>\n",
       "    </tr>\n",
       "    <tr>\n",
       "      <th>1</th>\n",
       "      <td>4724966</td>\n",
       "      <td>Saint Jo</td>\n",
       "      <td>33.69483</td>\n",
       "      <td>-97.52252</td>\n",
       "      <td>United States</td>\n",
       "    </tr>\n",
       "    <tr>\n",
       "      <th>2</th>\n",
       "      <td>4725484</td>\n",
       "      <td>Saint Paul</td>\n",
       "      <td>33.04123</td>\n",
       "      <td>-96.55027</td>\n",
       "      <td>United States</td>\n",
       "    </tr>\n",
       "    <tr>\n",
       "      <th>3</th>\n",
       "      <td>4725486</td>\n",
       "      <td>Saint Paul</td>\n",
       "      <td>28.09946</td>\n",
       "      <td>-97.55583</td>\n",
       "      <td>United States</td>\n",
       "    </tr>\n",
       "    <tr>\n",
       "      <th>4</th>\n",
       "      <td>4725807</td>\n",
       "      <td>Salado</td>\n",
       "      <td>30.94713</td>\n",
       "      <td>-97.53862</td>\n",
       "      <td>United States</td>\n",
       "    </tr>\n",
       "    <tr>\n",
       "      <th>...</th>\n",
       "      <td>...</td>\n",
       "      <td>...</td>\n",
       "      <td>...</td>\n",
       "      <td>...</td>\n",
       "      <td>...</td>\n",
       "    </tr>\n",
       "    <tr>\n",
       "      <th>525</th>\n",
       "      <td>4778945</td>\n",
       "      <td>Pimmit Hills</td>\n",
       "      <td>38.91289</td>\n",
       "      <td>-77.20081</td>\n",
       "      <td>United States</td>\n",
       "    </tr>\n",
       "    <tr>\n",
       "      <th>526</th>\n",
       "      <td>4779923</td>\n",
       "      <td>Poquoson</td>\n",
       "      <td>37.12237</td>\n",
       "      <td>-76.34578</td>\n",
       "      <td>United States</td>\n",
       "    </tr>\n",
       "    <tr>\n",
       "      <th>527</th>\n",
       "      <td>4779999</td>\n",
       "      <td>Portsmouth</td>\n",
       "      <td>36.83543</td>\n",
       "      <td>-76.29827</td>\n",
       "      <td>United States</td>\n",
       "    </tr>\n",
       "    <tr>\n",
       "      <th>528</th>\n",
       "      <td>4780011</td>\n",
       "      <td>Portsmouth Heights</td>\n",
       "      <td>36.82098</td>\n",
       "      <td>-76.36883</td>\n",
       "      <td>United States</td>\n",
       "    </tr>\n",
       "    <tr>\n",
       "      <th>529</th>\n",
       "      <td>4780087</td>\n",
       "      <td>Potomac Mills</td>\n",
       "      <td>38.64595</td>\n",
       "      <td>-77.29415</td>\n",
       "      <td>United States</td>\n",
       "    </tr>\n",
       "  </tbody>\n",
       "</table>\n",
       "<p>530 rows × 5 columns</p>\n",
       "</div>"
      ],
      "text/plain": [
       "          ID           City Name  Latitude  Longitude        Country\n",
       "0    4724892        Saint Hedwig  29.41440  -98.20001  United States\n",
       "1    4724966            Saint Jo  33.69483  -97.52252  United States\n",
       "2    4725484          Saint Paul  33.04123  -96.55027  United States\n",
       "3    4725486          Saint Paul  28.09946  -97.55583  United States\n",
       "4    4725807              Salado  30.94713  -97.53862  United States\n",
       "..       ...                 ...       ...        ...            ...\n",
       "525  4778945        Pimmit Hills  38.91289  -77.20081  United States\n",
       "526  4779923            Poquoson  37.12237  -76.34578  United States\n",
       "527  4779999          Portsmouth  36.83543  -76.29827  United States\n",
       "528  4780011  Portsmouth Heights  36.82098  -76.36883  United States\n",
       "529  4780087       Potomac Mills  38.64595  -77.29415  United States\n",
       "\n",
       "[530 rows x 5 columns]"
      ]
     },
     "execution_count": 6,
     "metadata": {},
     "output_type": "execute_result"
    }
   ],
   "source": [
    "cl = pd.read_csv(\"C:/Users/write/Ur_APIHW/Weather Py/CityList.csv\")\n",
    "#drop na values\n",
    "cl.dropna(inplace = True)\n",
    "cl"
   ]
  },
  {
   "cell_type": "code",
   "execution_count": 7,
   "metadata": {},
   "outputs": [
    {
     "data": {
      "text/plain": [
       "Index(['ID', 'City Name', 'Latitude', 'Longitude', 'Country', 'Max Temp',\n",
       "       'Humidity', 'Cloudiness', 'Wind Speed', 'Date'],\n",
       "      dtype='object')"
      ]
     },
     "execution_count": 7,
     "metadata": {},
     "output_type": "execute_result"
    }
   ],
   "source": [
    "#add new columns\n",
    "cl[\"Max Temp\"] = \"\"\n",
    "cl[\"Humidity\"] = \"\"\n",
    "cl[\"Cloudiness\"] = \"\"\n",
    "cl[\"Wind Speed\"] = \"\"\n",
    "cl[\"Date\"] = \"\"\n",
    "cl.columns"
   ]
  },
  {
   "cell_type": "code",
   "execution_count": null,
   "metadata": {},
   "outputs": [],
   "source": []
  },
  {
   "cell_type": "code",
   "execution_count": 8,
   "metadata": {},
   "outputs": [],
   "source": [
    "#clc = cl[[\"ID\", \"City Name\", \"Latitude\", \"Longitude\", \"Contient/Country\", \"Max Temp\", \"Humidity\", \"Cloudiness\", \"Wind Speed\", \"Date\"]] "
   ]
  },
  {
   "cell_type": "code",
   "execution_count": 9,
   "metadata": {},
   "outputs": [
    {
     "name": "stdout",
     "output_type": "stream",
     "text": [
      "The weather API responded with: {'coord': {'lon': -98.2, 'lat': 29.41}, 'weather': [{'id': 800, 'main': 'Clear', 'description': 'clear sky', 'icon': '01n'}], 'base': 'stations', 'main': {'temp': 69.17, 'feels_like': 71.29, 'temp_min': 68, 'temp_max': 70, 'pressure': 1014, 'humidity': 83}, 'visibility': 10000, 'wind': {'speed': 4.7, 'deg': 10}, 'clouds': {'all': 1}, 'dt': 1600917396, 'sys': {'type': 1, 'id': 5685, 'country': 'US', 'sunrise': 1600863718, 'sunset': 1600907279}, 'timezone': -18000, 'id': 4724892, 'name': 'Saint Hedwig', 'cod': 200}.\n"
     ]
    }
   ],
   "source": [
    "#test for api\n",
    "url = \"http://api.openweathermap.org/data/2.5/weather?\"\n",
    "\n",
    "units = \"imperial\"\n",
    "\n",
    "city = cl[\"City Name\"][0]\n",
    "\n",
    "query_url = f\"{url}appid={api_key}&units={units}&q={city}\"\n",
    "\n",
    "weather_response = requests.get(query_url)\n",
    "weather_json = weather_response.json()\n",
    "\n",
    "# Get the temperature from the response\n",
    "print(f\"The weather API responded with: {weather_json}.\")"
   ]
  },
  {
   "cell_type": "code",
   "execution_count": 10,
   "metadata": {},
   "outputs": [],
   "source": [
    "params = {\"key\": api_key}\n",
    "\n",
    "url = \"http://api.openweathermap.org/data/2.5/weather?\"\n",
    "\n",
    "units = \"imperial\""
   ]
  },
  {
   "cell_type": "code",
   "execution_count": 15,
   "metadata": {},
   "outputs": [
    {
     "ename": "NameError",
     "evalue": "name 'clc_weather' is not defined",
     "output_type": "error",
     "traceback": [
      "\u001b[1;31m---------------------------------------------------------------------------\u001b[0m",
      "\u001b[1;31mNameError\u001b[0m                                 Traceback (most recent call last)",
      "\u001b[1;32m<ipython-input-15-3bf5f7f03577>\u001b[0m in \u001b[0;36m<module>\u001b[1;34m\u001b[0m\n\u001b[0;32m     33\u001b[0m \u001b[1;31m# Visualize to confirm lat lng appear\u001b[0m\u001b[1;33m\u001b[0m\u001b[1;33m\u001b[0m\u001b[1;33m\u001b[0m\u001b[0m\n\u001b[0;32m     34\u001b[0m \u001b[1;31m#cl.head()\u001b[0m\u001b[1;33m\u001b[0m\u001b[1;33m\u001b[0m\u001b[1;33m\u001b[0m\u001b[0m\n\u001b[1;32m---> 35\u001b[1;33m \u001b[0mclc_weather\u001b[0m\u001b[1;33m\u001b[0m\u001b[1;33m\u001b[0m\u001b[0m\n\u001b[0m",
      "\u001b[1;31mNameError\u001b[0m: name 'clc_weather' is not defined"
     ]
    }
   ],
   "source": [
    "Two_Minutes = 120\n",
    "\n",
    "limits(calls=60, period=Two_Minutes)\n",
    "def call_api(url):\n",
    "    response = requests.get(query_url)\n",
    "    \n",
    "   \n",
    "    for index, row in cl.iterrows():\n",
    "    \n",
    "        city = row['City Name']\n",
    "        cc = row['Country']\n",
    "    \n",
    "        query_url = f\"{url}appid={api_key}&units={units}&q={city}\"\n",
    "\n",
    "        # update address key value\n",
    "        params['address'] = f\"{city},{cc}\"\n",
    "\n",
    "        # make request\n",
    "        clc_response = requests.get(query_url)\n",
    "    \n",
    "    \n",
    "        # convert to json\n",
    "        clc_weather = clc_response.json()  \n",
    "\n",
    "        cl.loc[index, 'Max Temp'] = clc_weather['main']['temp_max']\n",
    "        #cities_pd.loc[index, \"Lng\"] = cities_lat_lng[\"results\"][0][\"geometry\"][\"location\"][\"lng\"]\n",
    "    \n",
    "    if response.status_code != 200:\n",
    "        raise Exception('API response: {}'.format(response.status_code))\n",
    "    return response\n",
    "\n",
    "\n",
    "# Visualize to confirm lat lng appear\n",
    "#cl.head()\n",
    "clc_weather\n"
   ]
  },
  {
   "cell_type": "code",
   "execution_count": 7,
   "metadata": {},
   "outputs": [
    {
     "name": "stdout",
     "output_type": "stream",
     "text": [
      "{'coord': {'lon': -77.29, 'lat': 38.65}, 'weather': [{'id': 800, 'main': 'Clear', 'description': 'clear sky', 'icon': '01n'}], 'base': 'stations', 'main': {'temp': 64.18, 'feels_like': 64.44, 'temp_min': 62.01, 'temp_max': 66.2, 'pressure': 1015, 'humidity': 77}, 'visibility': 10000, 'wind': {'speed': 3.36, 'deg': 260}, 'clouds': {'all': 1}, 'dt': 1600907080, 'sys': {'type': 1, 'id': 5134, 'country': 'US', 'sunrise': 1600858690, 'sunset': 1600902272}, 'timezone': -14400, 'id': 4780087, 'name': 'Potomac Mills', 'cod': 200}\n"
     ]
    }
   ],
   "source": [
    "print(clc_weather)"
   ]
  },
  {
   "cell_type": "code",
   "execution_count": null,
   "metadata": {},
   "outputs": [],
   "source": []
  }
 ],
 "metadata": {
  "kernelspec": {
   "display_name": "Python 3",
   "language": "python",
   "name": "python3"
  },
  "language_info": {
   "codemirror_mode": {
    "name": "ipython",
    "version": 3
   },
   "file_extension": ".py",
   "mimetype": "text/x-python",
   "name": "python",
   "nbconvert_exporter": "python",
   "pygments_lexer": "ipython3",
   "version": "3.7.6"
  }
 },
 "nbformat": 4,
 "nbformat_minor": 4
}
